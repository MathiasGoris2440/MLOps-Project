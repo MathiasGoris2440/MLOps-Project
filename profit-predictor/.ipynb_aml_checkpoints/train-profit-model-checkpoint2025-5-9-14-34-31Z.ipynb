{
  "cells": [
    {
      "cell_type": "code",
      "source": [
        "from azure.identity import DefaultAzureCredential, InteractiveBrowserCredential\n",
        "from azure.ai.ml import MLClient"
      ],
      "outputs": [],
      "execution_count": 6,
      "metadata": {
        "gather": {
          "logged": 1749472241788
        }
      }
    },
    {
      "cell_type": "code",
      "source": [
        "import os\n",
        "## Either get environment variables, or a fallback name, which is the second parameter.\n",
        "## Currently, fill in the fallback values. Later on, we will make sure to work with Environment values. So we're already preparing for it in here!\n",
        "workspace_name = os.environ.get('WORKSPACE', 'profit-model-ws')\n",
        "subscription_id = os.environ.get('SUBSCRIPTION_ID', '3edc5525-afb7-4ed7-a865-5aa28c23bcc6')\n",
        "resource_group = os.environ.get('RESOURCE_GROUP', 'smurf-profit-ml-gr')"
      ],
      "outputs": [],
      "execution_count": 4,
      "metadata": {
        "gather": {
          "logged": 1749472230233
        }
      }
    },
    {
      "cell_type": "code",
      "source": [
        "# The credential \"DefaultAzureCredential\" will use the same name as your logged in user.\n",
        "credential = DefaultAzureCredential()"
      ],
      "outputs": [],
      "execution_count": 7,
      "metadata": {
        "gather": {
          "logged": 1749472243318
        }
      }
    },
    {
      "cell_type": "code",
      "source": [
        "ml_client = MLClient(\n",
        "    credential, subscription_id, resource_group, workspace_name\n",
        ")"
      ],
      "outputs": [],
      "execution_count": 8,
      "metadata": {
        "gather": {
          "logged": 1749472250735
        }
      }
    },
    {
      "cell_type": "code",
      "source": [
        "import pandas as pd\n",
        "\n",
        "df = pd.read_csv(\"azureml://subscriptions/3edc5525-afb7-4ed7-a865-5aa28c23bcc6/resourcegroups/smurf-profit-ml-gr/workspaces/profit-model-ws/datastores/workspaceblobstore/paths/UI/2025-06-09_085107_UTC/train_V2_cleaned.csv\")\n",
        "\n",
        "DF_PATH= \"azureml://subscriptions/3edc5525-afb7-4ed7-a865-5aa28c23bcc6/resourcegroups/smurf-profit-ml-gr/workspaces/profit-model-ws/datastores/workspaceblobstore/paths/UI/2025-06-09_085107_UTC/train_V2_cleaned.csv\"\n",
        "\n",
        "df"
      ],
      "outputs": [
        {
          "output_type": "execute_result",
          "execution_count": 23,
          "data": {
            "text/plain": "      income_am  profit_last_am  profit_am  damage_am  damage_inc  \\\n0     -0.910345       -1.153916   0.331249   1.275968    6.350261   \n1     -0.780435       -0.148628  -0.626860  -0.251395   -0.396167   \n2     -0.737825       -0.043537  -0.634849  -0.251395   -0.396167   \n3     -0.910345       -1.153916  -0.624207  -0.251395   -0.396167   \n4      1.352095        1.058226   0.431958   1.098807    1.852643   \n...         ...             ...        ...        ...         ...   \n4942  -0.170999        0.192906  -0.551771  -0.251395   -0.396167   \n4943  -0.910345       -1.153916  -0.682781  -0.251395   -0.396167   \n4944  -0.870040       -0.483348  -0.319246  -0.251395   -0.396167   \n4945   0.301303        0.393887   1.364007   0.591407    1.852643   \n4946   1.402639        0.522405   1.003597  -0.251395   -0.396167   \n\n      crd_lim_rec  credit_use_ic  gluten_ic  lactose_ic  insurance_ic  ...  \\\n0        2.572171          False      False       False         False  ...   \n1       -0.560258          False      False       False          True  ...   \n2       -0.560258          False      False       False          True  ...   \n3       -0.725122          False      False       False         False  ...   \n4        2.352351          False      False        True         False  ...   \n...           ...            ...        ...         ...           ...  ...   \n4942    -0.725122          False      False       False         False  ...   \n4943    -0.725122          False      False       False         False  ...   \n4944    -0.175573          False      False       False          True  ...   \n4945     2.572171          False      False       False          True  ...   \n4946    -0.065664          False      False       False         False  ...   \n\n      score_pos  score_neg  tenure_started_in_season  dining_ic_False  \\\n0      0.716841   0.152289                     False             True   \n1      0.390596   1.418531                     False             True   \n2     -1.547549  -1.763662                      True             True   \n3      0.482201   1.780404                      True             True   \n4     -0.413334   0.706683                     False             True   \n...         ...        ...                       ...              ...   \n4942   0.609486  -1.219401                     False             True   \n4943   0.215214  -0.325199                      True             True   \n4944  -0.083084  -1.409122                     False             True   \n4945   0.377917  -0.504463                     False             True   \n4946  -1.674988  -0.982543                     False             True   \n\n      dining_ic_True  dining_ic_missing  presidential_False  \\\n0              False              False                True   \n1              False              False                True   \n2              False              False                True   \n3              False              False                True   \n4              False              False                True   \n...              ...                ...                 ...   \n4942           False              False                True   \n4943           False              False                True   \n4944           False              False                True   \n4945           False              False                True   \n4946           False              False                True   \n\n      presidential_True  presidential_missing  is_return_customer  \n0                 False                 False               False  \n1                 False                 False                True  \n2                 False                 False                True  \n3                 False                 False               False  \n4                 False                 False                True  \n...                 ...                   ...                 ...  \n4942              False                 False                True  \n4943              False                 False               False  \n4944              False                 False                True  \n4945              False                 False                True  \n4946              False                 False                True  \n\n[4947 rows x 51 columns]",
            "text/html": "<div>\n<style scoped>\n    .dataframe tbody tr th:only-of-type {\n        vertical-align: middle;\n    }\n\n    .dataframe tbody tr th {\n        vertical-align: top;\n    }\n\n    .dataframe thead th {\n        text-align: right;\n    }\n</style>\n<table border=\"1\" class=\"dataframe\">\n  <thead>\n    <tr style=\"text-align: right;\">\n      <th></th>\n      <th>income_am</th>\n      <th>profit_last_am</th>\n      <th>profit_am</th>\n      <th>damage_am</th>\n      <th>damage_inc</th>\n      <th>crd_lim_rec</th>\n      <th>credit_use_ic</th>\n      <th>gluten_ic</th>\n      <th>lactose_ic</th>\n      <th>insurance_ic</th>\n      <th>...</th>\n      <th>score_pos</th>\n      <th>score_neg</th>\n      <th>tenure_started_in_season</th>\n      <th>dining_ic_False</th>\n      <th>dining_ic_True</th>\n      <th>dining_ic_missing</th>\n      <th>presidential_False</th>\n      <th>presidential_True</th>\n      <th>presidential_missing</th>\n      <th>is_return_customer</th>\n    </tr>\n  </thead>\n  <tbody>\n    <tr>\n      <th>0</th>\n      <td>-0.910345</td>\n      <td>-1.153916</td>\n      <td>0.331249</td>\n      <td>1.275968</td>\n      <td>6.350261</td>\n      <td>2.572171</td>\n      <td>False</td>\n      <td>False</td>\n      <td>False</td>\n      <td>False</td>\n      <td>...</td>\n      <td>0.716841</td>\n      <td>0.152289</td>\n      <td>False</td>\n      <td>True</td>\n      <td>False</td>\n      <td>False</td>\n      <td>True</td>\n      <td>False</td>\n      <td>False</td>\n      <td>False</td>\n    </tr>\n    <tr>\n      <th>1</th>\n      <td>-0.780435</td>\n      <td>-0.148628</td>\n      <td>-0.626860</td>\n      <td>-0.251395</td>\n      <td>-0.396167</td>\n      <td>-0.560258</td>\n      <td>False</td>\n      <td>False</td>\n      <td>False</td>\n      <td>True</td>\n      <td>...</td>\n      <td>0.390596</td>\n      <td>1.418531</td>\n      <td>False</td>\n      <td>True</td>\n      <td>False</td>\n      <td>False</td>\n      <td>True</td>\n      <td>False</td>\n      <td>False</td>\n      <td>True</td>\n    </tr>\n    <tr>\n      <th>2</th>\n      <td>-0.737825</td>\n      <td>-0.043537</td>\n      <td>-0.634849</td>\n      <td>-0.251395</td>\n      <td>-0.396167</td>\n      <td>-0.560258</td>\n      <td>False</td>\n      <td>False</td>\n      <td>False</td>\n      <td>True</td>\n      <td>...</td>\n      <td>-1.547549</td>\n      <td>-1.763662</td>\n      <td>True</td>\n      <td>True</td>\n      <td>False</td>\n      <td>False</td>\n      <td>True</td>\n      <td>False</td>\n      <td>False</td>\n      <td>True</td>\n    </tr>\n    <tr>\n      <th>3</th>\n      <td>-0.910345</td>\n      <td>-1.153916</td>\n      <td>-0.624207</td>\n      <td>-0.251395</td>\n      <td>-0.396167</td>\n      <td>-0.725122</td>\n      <td>False</td>\n      <td>False</td>\n      <td>False</td>\n      <td>False</td>\n      <td>...</td>\n      <td>0.482201</td>\n      <td>1.780404</td>\n      <td>True</td>\n      <td>True</td>\n      <td>False</td>\n      <td>False</td>\n      <td>True</td>\n      <td>False</td>\n      <td>False</td>\n      <td>False</td>\n    </tr>\n    <tr>\n      <th>4</th>\n      <td>1.352095</td>\n      <td>1.058226</td>\n      <td>0.431958</td>\n      <td>1.098807</td>\n      <td>1.852643</td>\n      <td>2.352351</td>\n      <td>False</td>\n      <td>False</td>\n      <td>True</td>\n      <td>False</td>\n      <td>...</td>\n      <td>-0.413334</td>\n      <td>0.706683</td>\n      <td>False</td>\n      <td>True</td>\n      <td>False</td>\n      <td>False</td>\n      <td>True</td>\n      <td>False</td>\n      <td>False</td>\n      <td>True</td>\n    </tr>\n    <tr>\n      <th>...</th>\n      <td>...</td>\n      <td>...</td>\n      <td>...</td>\n      <td>...</td>\n      <td>...</td>\n      <td>...</td>\n      <td>...</td>\n      <td>...</td>\n      <td>...</td>\n      <td>...</td>\n      <td>...</td>\n      <td>...</td>\n      <td>...</td>\n      <td>...</td>\n      <td>...</td>\n      <td>...</td>\n      <td>...</td>\n      <td>...</td>\n      <td>...</td>\n      <td>...</td>\n      <td>...</td>\n    </tr>\n    <tr>\n      <th>4942</th>\n      <td>-0.170999</td>\n      <td>0.192906</td>\n      <td>-0.551771</td>\n      <td>-0.251395</td>\n      <td>-0.396167</td>\n      <td>-0.725122</td>\n      <td>False</td>\n      <td>False</td>\n      <td>False</td>\n      <td>False</td>\n      <td>...</td>\n      <td>0.609486</td>\n      <td>-1.219401</td>\n      <td>False</td>\n      <td>True</td>\n      <td>False</td>\n      <td>False</td>\n      <td>True</td>\n      <td>False</td>\n      <td>False</td>\n      <td>True</td>\n    </tr>\n    <tr>\n      <th>4943</th>\n      <td>-0.910345</td>\n      <td>-1.153916</td>\n      <td>-0.682781</td>\n      <td>-0.251395</td>\n      <td>-0.396167</td>\n      <td>-0.725122</td>\n      <td>False</td>\n      <td>False</td>\n      <td>False</td>\n      <td>False</td>\n      <td>...</td>\n      <td>0.215214</td>\n      <td>-0.325199</td>\n      <td>True</td>\n      <td>True</td>\n      <td>False</td>\n      <td>False</td>\n      <td>True</td>\n      <td>False</td>\n      <td>False</td>\n      <td>False</td>\n    </tr>\n    <tr>\n      <th>4944</th>\n      <td>-0.870040</td>\n      <td>-0.483348</td>\n      <td>-0.319246</td>\n      <td>-0.251395</td>\n      <td>-0.396167</td>\n      <td>-0.175573</td>\n      <td>False</td>\n      <td>False</td>\n      <td>False</td>\n      <td>True</td>\n      <td>...</td>\n      <td>-0.083084</td>\n      <td>-1.409122</td>\n      <td>False</td>\n      <td>True</td>\n      <td>False</td>\n      <td>False</td>\n      <td>True</td>\n      <td>False</td>\n      <td>False</td>\n      <td>True</td>\n    </tr>\n    <tr>\n      <th>4945</th>\n      <td>0.301303</td>\n      <td>0.393887</td>\n      <td>1.364007</td>\n      <td>0.591407</td>\n      <td>1.852643</td>\n      <td>2.572171</td>\n      <td>False</td>\n      <td>False</td>\n      <td>False</td>\n      <td>True</td>\n      <td>...</td>\n      <td>0.377917</td>\n      <td>-0.504463</td>\n      <td>False</td>\n      <td>True</td>\n      <td>False</td>\n      <td>False</td>\n      <td>True</td>\n      <td>False</td>\n      <td>False</td>\n      <td>True</td>\n    </tr>\n    <tr>\n      <th>4946</th>\n      <td>1.402639</td>\n      <td>0.522405</td>\n      <td>1.003597</td>\n      <td>-0.251395</td>\n      <td>-0.396167</td>\n      <td>-0.065664</td>\n      <td>False</td>\n      <td>False</td>\n      <td>False</td>\n      <td>False</td>\n      <td>...</td>\n      <td>-1.674988</td>\n      <td>-0.982543</td>\n      <td>False</td>\n      <td>True</td>\n      <td>False</td>\n      <td>False</td>\n      <td>True</td>\n      <td>False</td>\n      <td>False</td>\n      <td>True</td>\n    </tr>\n  </tbody>\n</table>\n<p>4947 rows × 51 columns</p>\n</div>"
          },
          "metadata": {}
        }
      ],
      "execution_count": 23,
      "metadata": {
        "gather": {
          "logged": 1749475516486
        }
      }
    },
    {
      "cell_type": "markdown",
      "source": [
        "# Set environment"
      ],
      "metadata": {
        "nteract": {
          "transient": {
            "deleting": false
          }
        }
      }
    },
    {
      "cell_type": "code",
      "source": [
        "from azure.ai.ml.entities import Environment\n",
        "import os\n",
        "\n",
        "pipeline_job_env = Environment(\n",
        "    name=\"aml-Smurf-Train\",\n",
        "    description=\"Env for training Smurf model\",\n",
        "    conda_file=os.path.join(\"Conda.yaml\"),\n",
        "    image=\"mcr.microsoft.com/azureml/openmpi4.1.0-ubuntu20.04:latest\",\n",
        ")\n",
        "ml_client.environments.create_or_update(pipeline_job_env)\n"
      ],
      "outputs": [
        {
          "output_type": "execute_result",
          "execution_count": 25,
          "data": {
            "text/plain": "Environment({'arm_type': 'environment_version', 'latest_version': None, 'image': 'mcr.microsoft.com/azureml/openmpi4.1.0-ubuntu20.04:latest', 'intellectual_property': None, 'is_anonymous': False, 'auto_increment_version': False, 'auto_delete_setting': None, 'name': 'aml-Smurf-Train', 'description': 'Env for training Smurf model', 'tags': {}, 'properties': {'azureml.labels': 'latest'}, 'print_as_yaml': False, 'id': '/subscriptions/3edc5525-afb7-4ed7-a865-5aa28c23bcc6/resourceGroups/smurf-profit-ml-gr/providers/Microsoft.MachineLearningServices/workspaces/profit-model-ws/environments/aml-Smurf-Train/versions/1', 'Resource__source_path': '', 'base_path': '/mnt/batch/tasks/shared/LS_root/mounts/clusters/ci-profit-dev/code/Users/mathias.goris/profit-predictor', 'creation_context': <azure.ai.ml.entities._system_data.SystemData object at 0x7778439bf5b0>, 'serialize': <msrest.serialization.Serializer object at 0x7778439bfd60>, 'version': '1', 'conda_file': {'channels': ['conda-forge'], 'dependencies': ['python=3.8', 'numpy=1.21.2', 'pip=21.2.4', 'scikit-learn=0.24.2', 'scipy=1.7.1', 'pandas>=1.1,<1.2', 'tensorflow', {'pip': ['inference-schema[numpy-support]==1.3.0', 'xlrd==2.0.1', 'mlflow==1.26.1', 'azureml-mlflow==1.42.0', 'azureml-defaults']}], 'name': 'training-env'}, 'build': None, 'inference_config': None, 'os_type': 'Linux', 'conda_file_path': None, 'path': None, 'datastore': None, 'upload_hash': None, 'translated_conda_file': '{\\n  \"channels\": [\\n    \"conda-forge\"\\n  ],\\n  \"dependencies\": [\\n    \"python=3.8\",\\n    \"numpy=1.21.2\",\\n    \"pip=21.2.4\",\\n    \"scikit-learn=0.24.2\",\\n    \"scipy=1.7.1\",\\n    \"pandas>=1.1,<1.2\",\\n    \"tensorflow\",\\n    {\\n      \"pip\": [\\n        \"inference-schema[numpy-support]==1.3.0\",\\n        \"xlrd==2.0.1\",\\n        \"mlflow==1.26.1\",\\n        \"azureml-mlflow==1.42.0\",\\n        \"azureml-defaults\"\\n      ]\\n    }\\n  ],\\n  \"name\": \"training-env\"\\n}'})"
          },
          "metadata": {}
        }
      ],
      "execution_count": 25,
      "metadata": {
        "gather": {
          "logged": 1749475913446
        }
      }
    },
    {
      "cell_type": "markdown",
      "source": [
        "# training component"
      ],
      "metadata": {
        "nteract": {
          "transient": {
            "deleting": false
          }
        }
      }
    },
    {
      "cell_type": "code",
      "source": [
        "from azure.ai.ml import command\n",
        "from azure.ai.ml import Input, Output\n",
        "import os\n",
        "\n",
        "training_component = command(\n",
        "    name=\"smurf_train_model\",\n",
        "    display_name=\"Train Smurf Model\",\n",
        "    inputs={\n",
        "        \"data\": Input(type=\"uri_file\"),  # your cleaned_dataset.csv\n",
        "    },\n",
        "    outputs={\n",
        "        \"model_output\": Output(type=\"uri_folder\", mode=\"rw_mount\"),\n",
        "    },\n",
        "    code=os.path.join(\"code\"),\n",
        "    command=\"\"\"python train.py \\\n",
        "        --data ${{inputs.data}} \\\n",
        "        --model_output ${{outputs.model_output}}\"\"\",\n",
        "    environment=\"aml-Smurf-Train@latest\",\n",
        ")\n",
        "ml_client.create_or_update(training_component.component)\n"
      ],
      "outputs": [
        {
          "output_type": "stream",
          "name": "stderr",
          "text": "\rUploading code (0.0 MBs):   0%|          | 0/2056 [00:00<?, ?it/s]\rUploading code (0.0 MBs): 100%|██████████| 2056/2056 [00:00<00:00, 63472.41it/s]\n\n\n"
        },
        {
          "output_type": "execute_result",
          "execution_count": 37,
          "data": {
            "text/plain": "CommandComponent({'latest_version': None, 'intellectual_property': None, 'auto_increment_version': False, 'source': 'REMOTE.WORKSPACE.COMPONENT', 'is_anonymous': False, 'auto_delete_setting': None, 'name': 'smurf_train_model', 'description': None, 'tags': {}, 'properties': {}, 'print_as_yaml': False, 'id': '/subscriptions/3edc5525-afb7-4ed7-a865-5aa28c23bcc6/resourceGroups/smurf-profit-ml-gr/providers/Microsoft.MachineLearningServices/workspaces/profit-model-ws/components/smurf_train_model/versions/2025-06-09-14-07-06-7731687', 'Resource__source_path': None, 'base_path': '/mnt/batch/tasks/shared/LS_root/mounts/clusters/ci-profit-dev/code/Users/mathias.goris/profit-predictor', 'creation_context': <azure.ai.ml._restclient.v2024_01_01_preview.models._models_py3.SystemData object at 0x77783ec069b0>, 'serialize': <msrest.serialization.Serializer object at 0x77783f720b20>, 'command': 'python train.py         --data ${{inputs.data}}         --model_output ${{outputs.model_output}}', 'code': '/subscriptions/3edc5525-afb7-4ed7-a865-5aa28c23bcc6/resourceGroups/smurf-profit-ml-gr/providers/Microsoft.MachineLearningServices/workspaces/profit-model-ws/codes/dfa8f3dd-fef8-4ead-be3a-fc7a5b2194e7/versions/1', 'environment_variables': None, 'environment': '/subscriptions/3edc5525-afb7-4ed7-a865-5aa28c23bcc6/resourceGroups/smurf-profit-ml-gr/providers/Microsoft.MachineLearningServices/workspaces/profit-model-ws/environments/aml-Smurf-Train/versions/1', 'distribution': None, 'resources': {'instance_count': 1}, 'queue_settings': None, 'version': '2025-06-09-14-07-06-7731687', 'schema': None, 'type': 'command', 'display_name': 'Train Smurf Model', 'is_deterministic': True, 'inputs': {'data': {'type': 'uri_file', 'optional': False}}, 'outputs': {'model_output': {'type': 'uri_folder'}}, 'yaml_str': None, 'other_parameter': {}, 'additional_includes': []})"
          },
          "metadata": {}
        }
      ],
      "execution_count": 37,
      "metadata": {
        "gather": {
          "logged": 1749478028753
        }
      }
    },
    {
      "cell_type": "markdown",
      "source": [
        "# Define pipline"
      ],
      "metadata": {
        "nteract": {
          "transient": {
            "deleting": false
          }
        }
      }
    },
    {
      "cell_type": "code",
      "source": [
        "from azure.ai.ml import dsl, Input, Output\n",
        "\n",
        "@dsl.pipeline(\n",
        "    compute=\"cc-profit-train\",\n",
        "    description=\"Train Smurf Model Pipeline\",\n",
        ")\n",
        "def smurf_training_pipeline():\n",
        "    train_job = training_component(\n",
        "        data=Input(type=\"uri_file\", path=\"azureml:cleaned_dataset:1\"),\n",
        "    )\n",
        "\n",
        "    train_job.outputs.model_output = Output(\n",
        "        type=\"uri_folder\",\n",
        "        path=\"azureml://subscriptions/3edc5525-afb7-4ed7-a865-5aa28c23bcc6/resourcegroups/smurf-profit-ml-gr/workspaces/profit-model-ws/datastores/workspaceblobstore/paths/models/smurf_model/\",\n",
        "        mode=\"rw_mount\"\n",
        "    )\n",
        "\n",
        "    return {\n",
        "        \"model_output\": train_job.outputs.model_output\n",
        "    }\n"
      ],
      "outputs": [],
      "execution_count": 38,
      "metadata": {
        "gather": {
          "logged": 1749478028851
        }
      }
    },
    {
      "cell_type": "code",
      "source": [
        "pipeline = smurf_training_pipeline()\n",
        "\n",
        "pipeline_job = ml_client.jobs.create_or_update(\n",
        "    pipeline,\n",
        "    experiment_name=\"smurf_training_pipeline\",\n",
        ")\n",
        "\n",
        "import webbrowser\n",
        "webbrowser.open(pipeline_job.studio_url)\n",
        "\n",
        "ml_client.jobs.stream(pipeline_job.name)"
      ],
      "outputs": [
        {
          "output_type": "stream",
          "name": "stderr",
          "text": "pathOnCompute is not a known attribute of class <class 'azure.ai.ml._restclient.v2023_04_01_preview.models._models_py3.UriFolderJobOutput'> and will be ignored\n"
        },
        {
          "output_type": "execute_result",
          "execution_count": 39,
          "data": {
            "text/plain": "False"
          },
          "metadata": {}
        }
      ],
      "execution_count": 39,
      "metadata": {
        "gather": {
          "logged": 1749478037339
        }
      }
    },
    {
      "cell_type": "markdown",
      "source": [
        "## Run pipeline.yaml\n",
        "dit maakt model en slaagt model op\n",
        "ook mogelijk met command: \n",
        "```\n",
        "az ml job create --file pipeline.yaml\n",
        "```\n"
      ],
      "metadata": {
        "nteract": {
          "transient": {
            "deleting": false
          }
        }
      }
    },
    {
      "cell_type": "code",
      "source": [
        "ml_client.jobs.create_or_update(\"pipeline.yaml\")"
      ],
      "outputs": [],
      "execution_count": null,
      "metadata": {}
    }
  ],
  "metadata": {
    "kernelspec": {
      "name": "python310-sdkv2",
      "language": "python",
      "display_name": "Python 3.10 - SDK v2"
    },
    "language_info": {
      "name": "python",
      "version": "3.10.16",
      "mimetype": "text/x-python",
      "codemirror_mode": {
        "name": "ipython",
        "version": 3
      },
      "pygments_lexer": "ipython3",
      "nbconvert_exporter": "python",
      "file_extension": ".py"
    },
    "microsoft": {
      "ms_spell_check": {
        "ms_spell_check_language": "en"
      },
      "host": {
        "AzureML": {
          "notebookHasBeenCompleted": true
        }
      }
    },
    "kernel_info": {
      "name": "python310-sdkv2"
    },
    "nteract": {
      "version": "nteract-front-end@1.0.0"
    }
  },
  "nbformat": 4,
  "nbformat_minor": 2
}